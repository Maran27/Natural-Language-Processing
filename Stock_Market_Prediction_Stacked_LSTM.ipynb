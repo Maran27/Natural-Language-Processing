{
  "nbformat": 4,
  "nbformat_minor": 0,
  "metadata": {
    "colab": {
      "name": "Stock Market Prediction - Stacked LSTM.ipynb",
      "provenance": [],
      "authorship_tag": "ABX9TyPAZQd2d+hGKliruLFMcdLG"
    },
    "kernelspec": {
      "name": "python3",
      "display_name": "Python 3"
    },
    "language_info": {
      "name": "python"
    }
  },
  "cells": [
    {
      "cell_type": "code",
      "execution_count": 1,
      "metadata": {
        "id": "H3dp0Vs-9pUp"
      },
      "outputs": [],
      "source": [
        "import pandas_datareader as pdr\n",
        "import os"
      ]
    },
    {
      "cell_type": "code",
      "source": [
        "df = pdr.get_data_tiingo('TSLA', api_key=KEY)"
      ],
      "metadata": {
        "id": "Hzhdo0VW-JUx"
      },
      "execution_count": 43,
      "outputs": []
    },
    {
      "cell_type": "code",
      "source": [
        "df.to_csv('data.csv')"
      ],
      "metadata": {
        "id": "_NEux4WQEfLC"
      },
      "execution_count": 3,
      "outputs": []
    },
    {
      "cell_type": "code",
      "source": [
        "import pandas as pd"
      ],
      "metadata": {
        "id": "4Mr4QoWSKntQ"
      },
      "execution_count": 4,
      "outputs": []
    },
    {
      "cell_type": "code",
      "source": [
        "df = pd.read_csv('data.csv')"
      ],
      "metadata": {
        "id": "bGdojfc1KsFD"
      },
      "execution_count": 5,
      "outputs": []
    },
    {
      "cell_type": "code",
      "source": [
        "df.tail()"
      ],
      "metadata": {
        "colab": {
          "base_uri": "https://localhost:8080/",
          "height": 206
        },
        "id": "VWUIyT_DKx-m",
        "outputId": "ecc8a8f6-d67b-4d53-acf3-c472b0444dd9"
      },
      "execution_count": 6,
      "outputs": [
        {
          "output_type": "execute_result",
          "data": {
            "text/html": [
              "\n",
              "  <div id=\"df-06f257c3-95fc-42c0-9a4c-1d882c79e1ac\">\n",
              "    <div class=\"colab-df-container\">\n",
              "      <div>\n",
              "<style scoped>\n",
              "    .dataframe tbody tr th:only-of-type {\n",
              "        vertical-align: middle;\n",
              "    }\n",
              "\n",
              "    .dataframe tbody tr th {\n",
              "        vertical-align: top;\n",
              "    }\n",
              "\n",
              "    .dataframe thead th {\n",
              "        text-align: right;\n",
              "    }\n",
              "</style>\n",
              "<table border=\"1\" class=\"dataframe\">\n",
              "  <thead>\n",
              "    <tr style=\"text-align: right;\">\n",
              "      <th></th>\n",
              "      <th>symbol</th>\n",
              "      <th>date</th>\n",
              "      <th>close</th>\n",
              "      <th>high</th>\n",
              "      <th>low</th>\n",
              "      <th>open</th>\n",
              "      <th>volume</th>\n",
              "      <th>adjClose</th>\n",
              "      <th>adjHigh</th>\n",
              "      <th>adjLow</th>\n",
              "      <th>adjOpen</th>\n",
              "      <th>adjVolume</th>\n",
              "      <th>divCash</th>\n",
              "      <th>splitFactor</th>\n",
              "    </tr>\n",
              "  </thead>\n",
              "  <tbody>\n",
              "    <tr>\n",
              "      <th>1255</th>\n",
              "      <td>TSLA</td>\n",
              "      <td>2022-01-24 00:00:00+00:00</td>\n",
              "      <td>930.00</td>\n",
              "      <td>933.5131</td>\n",
              "      <td>851.47</td>\n",
              "      <td>904.76</td>\n",
              "      <td>50791714</td>\n",
              "      <td>930.00</td>\n",
              "      <td>933.5131</td>\n",
              "      <td>851.47</td>\n",
              "      <td>904.76</td>\n",
              "      <td>50791714</td>\n",
              "      <td>0.0</td>\n",
              "      <td>1.0</td>\n",
              "    </tr>\n",
              "    <tr>\n",
              "      <th>1256</th>\n",
              "      <td>TSLA</td>\n",
              "      <td>2022-01-25 00:00:00+00:00</td>\n",
              "      <td>918.40</td>\n",
              "      <td>951.2600</td>\n",
              "      <td>903.21</td>\n",
              "      <td>914.20</td>\n",
              "      <td>28865302</td>\n",
              "      <td>918.40</td>\n",
              "      <td>951.2600</td>\n",
              "      <td>903.21</td>\n",
              "      <td>914.20</td>\n",
              "      <td>28865302</td>\n",
              "      <td>0.0</td>\n",
              "      <td>1.0</td>\n",
              "    </tr>\n",
              "    <tr>\n",
              "      <th>1257</th>\n",
              "      <td>TSLA</td>\n",
              "      <td>2022-01-26 00:00:00+00:00</td>\n",
              "      <td>937.41</td>\n",
              "      <td>987.6900</td>\n",
              "      <td>906.00</td>\n",
              "      <td>952.43</td>\n",
              "      <td>34955761</td>\n",
              "      <td>937.41</td>\n",
              "      <td>987.6900</td>\n",
              "      <td>906.00</td>\n",
              "      <td>952.43</td>\n",
              "      <td>34955761</td>\n",
              "      <td>0.0</td>\n",
              "      <td>1.0</td>\n",
              "    </tr>\n",
              "    <tr>\n",
              "      <th>1258</th>\n",
              "      <td>TSLA</td>\n",
              "      <td>2022-01-27 00:00:00+00:00</td>\n",
              "      <td>829.10</td>\n",
              "      <td>935.3900</td>\n",
              "      <td>829.00</td>\n",
              "      <td>933.36</td>\n",
              "      <td>49036523</td>\n",
              "      <td>829.10</td>\n",
              "      <td>935.3900</td>\n",
              "      <td>829.00</td>\n",
              "      <td>933.36</td>\n",
              "      <td>49036523</td>\n",
              "      <td>0.0</td>\n",
              "      <td>1.0</td>\n",
              "    </tr>\n",
              "    <tr>\n",
              "      <th>1259</th>\n",
              "      <td>TSLA</td>\n",
              "      <td>2022-01-28 00:00:00+00:00</td>\n",
              "      <td>846.35</td>\n",
              "      <td>857.5000</td>\n",
              "      <td>792.01</td>\n",
              "      <td>831.56</td>\n",
              "      <td>44929650</td>\n",
              "      <td>846.35</td>\n",
              "      <td>857.5000</td>\n",
              "      <td>792.01</td>\n",
              "      <td>831.56</td>\n",
              "      <td>44929650</td>\n",
              "      <td>0.0</td>\n",
              "      <td>1.0</td>\n",
              "    </tr>\n",
              "  </tbody>\n",
              "</table>\n",
              "</div>\n",
              "      <button class=\"colab-df-convert\" onclick=\"convertToInteractive('df-06f257c3-95fc-42c0-9a4c-1d882c79e1ac')\"\n",
              "              title=\"Convert this dataframe to an interactive table.\"\n",
              "              style=\"display:none;\">\n",
              "        \n",
              "  <svg xmlns=\"http://www.w3.org/2000/svg\" height=\"24px\"viewBox=\"0 0 24 24\"\n",
              "       width=\"24px\">\n",
              "    <path d=\"M0 0h24v24H0V0z\" fill=\"none\"/>\n",
              "    <path d=\"M18.56 5.44l.94 2.06.94-2.06 2.06-.94-2.06-.94-.94-2.06-.94 2.06-2.06.94zm-11 1L8.5 8.5l.94-2.06 2.06-.94-2.06-.94L8.5 2.5l-.94 2.06-2.06.94zm10 10l.94 2.06.94-2.06 2.06-.94-2.06-.94-.94-2.06-.94 2.06-2.06.94z\"/><path d=\"M17.41 7.96l-1.37-1.37c-.4-.4-.92-.59-1.43-.59-.52 0-1.04.2-1.43.59L10.3 9.45l-7.72 7.72c-.78.78-.78 2.05 0 2.83L4 21.41c.39.39.9.59 1.41.59.51 0 1.02-.2 1.41-.59l7.78-7.78 2.81-2.81c.8-.78.8-2.07 0-2.86zM5.41 20L4 18.59l7.72-7.72 1.47 1.35L5.41 20z\"/>\n",
              "  </svg>\n",
              "      </button>\n",
              "      \n",
              "  <style>\n",
              "    .colab-df-container {\n",
              "      display:flex;\n",
              "      flex-wrap:wrap;\n",
              "      gap: 12px;\n",
              "    }\n",
              "\n",
              "    .colab-df-convert {\n",
              "      background-color: #E8F0FE;\n",
              "      border: none;\n",
              "      border-radius: 50%;\n",
              "      cursor: pointer;\n",
              "      display: none;\n",
              "      fill: #1967D2;\n",
              "      height: 32px;\n",
              "      padding: 0 0 0 0;\n",
              "      width: 32px;\n",
              "    }\n",
              "\n",
              "    .colab-df-convert:hover {\n",
              "      background-color: #E2EBFA;\n",
              "      box-shadow: 0px 1px 2px rgba(60, 64, 67, 0.3), 0px 1px 3px 1px rgba(60, 64, 67, 0.15);\n",
              "      fill: #174EA6;\n",
              "    }\n",
              "\n",
              "    [theme=dark] .colab-df-convert {\n",
              "      background-color: #3B4455;\n",
              "      fill: #D2E3FC;\n",
              "    }\n",
              "\n",
              "    [theme=dark] .colab-df-convert:hover {\n",
              "      background-color: #434B5C;\n",
              "      box-shadow: 0px 1px 3px 1px rgba(0, 0, 0, 0.15);\n",
              "      filter: drop-shadow(0px 1px 2px rgba(0, 0, 0, 0.3));\n",
              "      fill: #FFFFFF;\n",
              "    }\n",
              "  </style>\n",
              "\n",
              "      <script>\n",
              "        const buttonEl =\n",
              "          document.querySelector('#df-06f257c3-95fc-42c0-9a4c-1d882c79e1ac button.colab-df-convert');\n",
              "        buttonEl.style.display =\n",
              "          google.colab.kernel.accessAllowed ? 'block' : 'none';\n",
              "\n",
              "        async function convertToInteractive(key) {\n",
              "          const element = document.querySelector('#df-06f257c3-95fc-42c0-9a4c-1d882c79e1ac');\n",
              "          const dataTable =\n",
              "            await google.colab.kernel.invokeFunction('convertToInteractive',\n",
              "                                                     [key], {});\n",
              "          if (!dataTable) return;\n",
              "\n",
              "          const docLinkHtml = 'Like what you see? Visit the ' +\n",
              "            '<a target=\"_blank\" href=https://colab.research.google.com/notebooks/data_table.ipynb>data table notebook</a>'\n",
              "            + ' to learn more about interactive tables.';\n",
              "          element.innerHTML = '';\n",
              "          dataTable['output_type'] = 'display_data';\n",
              "          await google.colab.output.renderOutput(dataTable, element);\n",
              "          const docLink = document.createElement('div');\n",
              "          docLink.innerHTML = docLinkHtml;\n",
              "          element.appendChild(docLink);\n",
              "        }\n",
              "      </script>\n",
              "    </div>\n",
              "  </div>\n",
              "  "
            ],
            "text/plain": [
              "     symbol                       date   close  ...  adjVolume  divCash  splitFactor\n",
              "1255   TSLA  2022-01-24 00:00:00+00:00  930.00  ...   50791714      0.0          1.0\n",
              "1256   TSLA  2022-01-25 00:00:00+00:00  918.40  ...   28865302      0.0          1.0\n",
              "1257   TSLA  2022-01-26 00:00:00+00:00  937.41  ...   34955761      0.0          1.0\n",
              "1258   TSLA  2022-01-27 00:00:00+00:00  829.10  ...   49036523      0.0          1.0\n",
              "1259   TSLA  2022-01-28 00:00:00+00:00  846.35  ...   44929650      0.0          1.0\n",
              "\n",
              "[5 rows x 14 columns]"
            ]
          },
          "metadata": {},
          "execution_count": 6
        }
      ]
    },
    {
      "cell_type": "code",
      "source": [
        "df2 = df.reset_index()['close']"
      ],
      "metadata": {
        "id": "sjOGJwTXK4KP"
      },
      "execution_count": 7,
      "outputs": []
    },
    {
      "cell_type": "code",
      "source": [
        "df2.shape"
      ],
      "metadata": {
        "colab": {
          "base_uri": "https://localhost:8080/"
        },
        "id": "0FhspqRbuDy9",
        "outputId": "c4382d6b-34fa-4e1d-e017-d96b2be4bc50"
      },
      "execution_count": 8,
      "outputs": [
        {
          "output_type": "execute_result",
          "data": {
            "text/plain": [
              "(1260,)"
            ]
          },
          "metadata": {},
          "execution_count": 8
        }
      ]
    },
    {
      "cell_type": "code",
      "source": [
        "df2"
      ],
      "metadata": {
        "colab": {
          "base_uri": "https://localhost:8080/"
        },
        "id": "M_6Y3zkluaRZ",
        "outputId": "150b2bd9-6e90-4a40-b0d2-09a1f7f322de"
      },
      "execution_count": 9,
      "outputs": [
        {
          "output_type": "execute_result",
          "data": {
            "text/plain": [
              "0       250.63\n",
              "1       251.93\n",
              "2       249.24\n",
              "3       251.55\n",
              "4       251.33\n",
              "         ...  \n",
              "1255    930.00\n",
              "1256    918.40\n",
              "1257    937.41\n",
              "1258    829.10\n",
              "1259    846.35\n",
              "Name: close, Length: 1260, dtype: float64"
            ]
          },
          "metadata": {},
          "execution_count": 9
        }
      ]
    },
    {
      "cell_type": "code",
      "source": [
        "import matplotlib.pyplot as plt\n",
        "plt.plot(df2)"
      ],
      "metadata": {
        "colab": {
          "base_uri": "https://localhost:8080/",
          "height": 282
        },
        "id": "in74k64uuegt",
        "outputId": "7e0964bc-a550-4446-b8d7-8727a9997cb2"
      },
      "execution_count": 10,
      "outputs": [
        {
          "output_type": "execute_result",
          "data": {
            "text/plain": [
              "[<matplotlib.lines.Line2D at 0x7f1119296090>]"
            ]
          },
          "metadata": {},
          "execution_count": 10
        },
        {
          "output_type": "display_data",
          "data": {
            "image/png": "[encoded data removed]",
            "text/plain": [
              "<Figure size 432x288 with 1 Axes>"
            ]
          },
          "metadata": {
            "needs_background": "light"
          }
        }
      ]
    },
    {
      "cell_type": "code",
      "source": [
        "from matplotlib import scale\n",
        "import numpy as np\n",
        "from sklearn.preprocessing import MinMaxScaler\n",
        "scaler = MinMaxScaler(feature_range = (0, 1))\n",
        "df2 = scaler.fit_transform(np.array(df2).reshape(-1,1))"
      ],
      "metadata": {
        "id": "67Z3HbHGuph2"
      },
      "execution_count": 11,
      "outputs": []
    },
    {
      "cell_type": "code",
      "source": [
        "df2.shape"
      ],
      "metadata": {
        "colab": {
          "base_uri": "https://localhost:8080/"
        },
        "id": "JOWUcwpIwA3d",
        "outputId": "203580c7-4457-4392-96e3-4a531c369264"
      },
      "execution_count": 12,
      "outputs": [
        {
          "output_type": "execute_result",
          "data": {
            "text/plain": [
              "(1260, 1)"
            ]
          },
          "metadata": {},
          "execution_count": 12
        }
      ]
    },
    {
      "cell_type": "code",
      "source": [
        "df2"
      ],
      "metadata": {
        "colab": {
          "base_uri": "https://localhost:8080/"
        },
        "id": "AAwwiyg9wEGI",
        "outputId": "c9e28373-502d-4a4b-f7be-00836f58a6db"
      },
      "execution_count": 13,
      "outputs": [
        {
          "output_type": "execute_result",
          "data": {
            "text/plain": [
              "array([[0.03479012],\n",
              "       [0.03542126],\n",
              "       [0.03411529],\n",
              "       ...,\n",
              "       [0.36821408],\n",
              "       [0.3156308 ],\n",
              "       [0.32400548]])"
            ]
          },
          "metadata": {},
          "execution_count": 13
        }
      ]
    },
    {
      "cell_type": "code",
      "source": [
        "training = int(len(df2) * 0.65)\n",
        "test = len(df2) - training\n",
        "train_data, test_data = df2[0 : training, :], df2[training : len(df2), :1]"
      ],
      "metadata": {
        "id": "dvedJqzvwX2t"
      },
      "execution_count": 14,
      "outputs": []
    },
    {
      "cell_type": "code",
      "source": [
        "# the time_step parameter plays an impotant role in predicting the the next output based on the previous inputs \n",
        "# basically considering how much previous inputs we need to consider\n",
        "def creating_dataset(dataset, time_step=1):\n",
        "  dataX, dataY = [], []\n",
        "  for i in range(len(dataset) - time_step - 1):\n",
        "    a = dataset[i : (i + time_step), 0]\n",
        "    dataX.append(a)\n",
        "    dataY.append(dataset[i + time_step, 0])\n",
        "  return np.array(dataX), np.array(dataY)"
      ],
      "metadata": {
        "id": "IE3yeUrbyLiG"
      },
      "execution_count": 15,
      "outputs": []
    },
    {
      "cell_type": "code",
      "source": [
        "time_step = 100\n",
        "x_train, y_train = creating_dataset(train_data, time_step)\n",
        "x_test, y_test = creating_dataset(test_data, time_step)"
      ],
      "metadata": {
        "id": "pQeawOWt1Vz2"
      },
      "execution_count": 16,
      "outputs": []
    },
    {
      "cell_type": "code",
      "source": [
        "x_train"
      ],
      "metadata": {
        "colab": {
          "base_uri": "https://localhost:8080/"
        },
        "id": "ign9fzdr10Gi",
        "outputId": "43a52393-5e0a-4079-af9e-787941b99aaf"
      },
      "execution_count": 17,
      "outputs": [
        {
          "output_type": "execute_result",
          "data": {
            "text/plain": [
              "array([[0.03479012, 0.03542126, 0.03411529, ..., 0.09264582, 0.09383041,\n",
              "        0.09585004],\n",
              "       [0.03542126, 0.03411529, 0.03523677, ..., 0.09383041, 0.09585004,\n",
              "        0.09886493],\n",
              "       [0.03411529, 0.03523677, 0.03512997, ..., 0.09585004, 0.09886493,\n",
              "        0.09927274],\n",
              "       ...,\n",
              "       [0.07568769, 0.07633339, 0.0747944 , ..., 0.26854324, 0.2556875 ,\n",
              "        0.26516424],\n",
              "       [0.07633339, 0.0747944 , 0.073503  , ..., 0.2556875 , 0.26516424,\n",
              "        0.30089621],\n",
              "       [0.0747944 , 0.073503  , 0.07618289, ..., 0.26516424, 0.30089621,\n",
              "        0.28651118]])"
            ]
          },
          "metadata": {},
          "execution_count": 17
        }
      ]
    },
    {
      "cell_type": "code",
      "source": [
        "x_train = x_train.reshape(x_train.shape[0], x_train.shape[1], 1)\n",
        "x_test = x_test.reshape(x_test.shape[0], x_test.shape[1], 1)"
      ],
      "metadata": {
        "id": "7D3YS_WF13BG"
      },
      "execution_count": 18,
      "outputs": []
    },
    {
      "cell_type": "code",
      "source": [
        "from tensorflow.keras.models import Sequential\n",
        "from tensorflow.keras.layers import Dense\n",
        "from tensorflow.keras.layers import LSTM"
      ],
      "metadata": {
        "id": "XxFw9WIC4ivh"
      },
      "execution_count": 19,
      "outputs": []
    },
    {
      "cell_type": "code",
      "source": [
        "model = Sequential()\n",
        "model.add(LSTM(50, return_sequences=True, input_shape=(100, 1)))\n",
        "model.add(LSTM(50, return_sequences=True))\n",
        "model.add(LSTM(50))\n",
        "model.add(Dense(1))\n",
        "model.compile(loss='mean_squared_error', optimizer='adam')"
      ],
      "metadata": {
        "id": "UJSsQAnD4z0O"
      },
      "execution_count": 20,
      "outputs": []
    },
    {
      "cell_type": "code",
      "source": [
        "model.summary()"
      ],
      "metadata": {
        "colab": {
          "base_uri": "https://localhost:8080/"
        },
        "id": "h78SYin55a3q",
        "outputId": "a3617298-7f56-4f03-c6f7-72a15452cb70"
      },
      "execution_count": 21,
      "outputs": [
        {
          "output_type": "stream",
          "name": "stdout",
          "text": [
            "Model: \"sequential\"\n",
            "_________________________________________________________________\n",
            " Layer (type)                Output Shape              Param #   \n",
            "=================================================================\n",
            " lstm (LSTM)                 (None, 100, 50)           10400     \n",
            "                                                                 \n",
            " lstm_1 (LSTM)               (None, 100, 50)           20200     \n",
            "                                                                 \n",
            " lstm_2 (LSTM)               (None, 50)                20200     \n",
            "                                                                 \n",
            " dense (Dense)               (None, 1)                 51        \n",
            "                                                                 \n",
            "=================================================================\n",
            "Total params: 50,851\n",
            "Trainable params: 50,851\n",
            "Non-trainable params: 0\n",
            "_________________________________________________________________\n"
          ]
        }
      ]
    },
    {
      "cell_type": "code",
      "source": [
        "model.fit(x_train, y_train, validation_data = (x_test, y_test), epochs = 100, batch_size =64, verbose = 1)"
      ],
      "metadata": {
        "colab": {
          "base_uri": "https://localhost:8080/"
        },
        "id": "x_pRen7h5h2s",
        "outputId": "4409e6eb-56d8-4928-ef63-4b6b4eb5acb7"
      },
      "execution_count": 22,
      "outputs": [
        {
          "output_type": "stream",
          "name": "stdout",
          "text": [
            "Epoch 1/100\n",
            "12/12 [==============================] - 16s 537ms/step - loss: 0.0029 - val_loss: 0.0162\n",
            "Epoch 2/100\n",
            "12/12 [==============================] - 4s 335ms/step - loss: 0.0011 - val_loss: 0.0019\n",
            "Epoch 3/100\n",
            "12/12 [==============================] - 4s 323ms/step - loss: 7.4686e-04 - val_loss: 0.0016\n",
            "Epoch 4/100\n",
            "12/12 [==============================] - 4s 336ms/step - loss: 6.3253e-04 - val_loss: 0.0015\n",
            "Epoch 5/100\n",
            "12/12 [==============================] - 4s 332ms/step - loss: 5.4079e-04 - val_loss: 0.0011\n",
            "Epoch 6/100\n",
            "12/12 [==============================] - 4s 333ms/step - loss: 4.7282e-04 - val_loss: 0.0014\n",
            "Epoch 7/100\n",
            "12/12 [==============================] - 4s 322ms/step - loss: 3.7463e-04 - val_loss: 0.0017\n",
            "Epoch 8/100\n",
            "12/12 [==============================] - 4s 328ms/step - loss: 3.3059e-04 - val_loss: 0.0021\n",
            "Epoch 9/100\n",
            "12/12 [==============================] - 4s 325ms/step - loss: 3.2423e-04 - val_loss: 0.0023\n",
            "Epoch 10/100\n",
            "12/12 [==============================] - 4s 325ms/step - loss: 2.9965e-04 - val_loss: 0.0021\n",
            "Epoch 11/100\n",
            "12/12 [==============================] - 4s 326ms/step - loss: 3.0812e-04 - val_loss: 0.0026\n",
            "Epoch 12/100\n",
            "12/12 [==============================] - 4s 324ms/step - loss: 3.3160e-04 - val_loss: 0.0017\n",
            "Epoch 13/100\n",
            "12/12 [==============================] - 5s 381ms/step - loss: 2.9035e-04 - val_loss: 0.0027\n",
            "Epoch 14/100\n",
            "12/12 [==============================] - 4s 330ms/step - loss: 2.5494e-04 - val_loss: 0.0022\n",
            "Epoch 15/100\n",
            "12/12 [==============================] - 4s 332ms/step - loss: 2.5358e-04 - val_loss: 0.0022\n",
            "Epoch 16/100\n",
            "12/12 [==============================] - 5s 397ms/step - loss: 2.3931e-04 - val_loss: 0.0023\n",
            "Epoch 17/100\n",
            "12/12 [==============================] - 4s 340ms/step - loss: 2.4536e-04 - val_loss: 0.0024\n",
            "Epoch 18/100\n",
            "12/12 [==============================] - 5s 391ms/step - loss: 2.4828e-04 - val_loss: 0.0022\n",
            "Epoch 19/100\n",
            "12/12 [==============================] - 4s 339ms/step - loss: 3.6679e-04 - val_loss: 0.0026\n",
            "Epoch 20/100\n",
            "12/12 [==============================] - 4s 349ms/step - loss: 3.1142e-04 - val_loss: 0.0023\n",
            "Epoch 21/100\n",
            "12/12 [==============================] - 4s 347ms/step - loss: 2.6102e-04 - val_loss: 0.0021\n",
            "Epoch 22/100\n",
            "12/12 [==============================] - 5s 405ms/step - loss: 2.4735e-04 - val_loss: 0.0023\n",
            "Epoch 23/100\n",
            "12/12 [==============================] - 4s 334ms/step - loss: 2.9170e-04 - val_loss: 0.0025\n",
            "Epoch 24/100\n",
            "12/12 [==============================] - 4s 336ms/step - loss: 2.7381e-04 - val_loss: 0.0022\n",
            "Epoch 25/100\n",
            "12/12 [==============================] - 4s 339ms/step - loss: 2.6331e-04 - val_loss: 0.0026\n",
            "Epoch 26/100\n",
            "12/12 [==============================] - 4s 349ms/step - loss: 2.3281e-04 - val_loss: 0.0022\n",
            "Epoch 27/100\n",
            "12/12 [==============================] - 4s 338ms/step - loss: 2.4060e-04 - val_loss: 0.0026\n",
            "Epoch 28/100\n",
            "12/12 [==============================] - 4s 338ms/step - loss: 2.4765e-04 - val_loss: 0.0032\n",
            "Epoch 29/100\n",
            "12/12 [==============================] - 4s 331ms/step - loss: 2.7077e-04 - val_loss: 0.0022\n",
            "Epoch 30/100\n",
            "12/12 [==============================] - 4s 346ms/step - loss: 2.3925e-04 - val_loss: 0.0022\n",
            "Epoch 31/100\n",
            "12/12 [==============================] - 4s 352ms/step - loss: 2.8599e-04 - val_loss: 0.0026\n",
            "Epoch 32/100\n",
            "12/12 [==============================] - 4s 342ms/step - loss: 2.5799e-04 - val_loss: 0.0021\n",
            "Epoch 33/100\n",
            "12/12 [==============================] - 4s 329ms/step - loss: 2.7344e-04 - val_loss: 0.0018\n",
            "Epoch 34/100\n",
            "12/12 [==============================] - 4s 337ms/step - loss: 2.5337e-04 - val_loss: 0.0035\n",
            "Epoch 35/100\n",
            "12/12 [==============================] - 4s 336ms/step - loss: 2.3670e-04 - val_loss: 0.0020\n",
            "Epoch 36/100\n",
            "12/12 [==============================] - 4s 338ms/step - loss: 2.4118e-04 - val_loss: 0.0028\n",
            "Epoch 37/100\n",
            "12/12 [==============================] - 4s 336ms/step - loss: 2.4112e-04 - val_loss: 0.0021\n",
            "Epoch 38/100\n",
            "12/12 [==============================] - 4s 325ms/step - loss: 2.3454e-04 - val_loss: 0.0028\n",
            "Epoch 39/100\n",
            "12/12 [==============================] - 4s 333ms/step - loss: 2.2581e-04 - val_loss: 0.0020\n",
            "Epoch 40/100\n",
            "12/12 [==============================] - 4s 355ms/step - loss: 2.2567e-04 - val_loss: 0.0020\n",
            "Epoch 41/100\n",
            "12/12 [==============================] - 4s 337ms/step - loss: 2.2557e-04 - val_loss: 0.0024\n",
            "Epoch 42/100\n",
            "12/12 [==============================] - 4s 327ms/step - loss: 2.4667e-04 - val_loss: 0.0017\n",
            "Epoch 43/100\n",
            "12/12 [==============================] - 4s 329ms/step - loss: 2.2677e-04 - val_loss: 0.0025\n",
            "Epoch 44/100\n",
            "12/12 [==============================] - 4s 342ms/step - loss: 2.2217e-04 - val_loss: 0.0025\n",
            "Epoch 45/100\n",
            "12/12 [==============================] - 4s 328ms/step - loss: 2.3163e-04 - val_loss: 0.0021\n",
            "Epoch 46/100\n",
            "12/12 [==============================] - 4s 338ms/step - loss: 2.1980e-04 - val_loss: 0.0022\n",
            "Epoch 47/100\n",
            "12/12 [==============================] - 5s 404ms/step - loss: 2.1972e-04 - val_loss: 0.0019\n",
            "Epoch 48/100\n",
            "12/12 [==============================] - 4s 345ms/step - loss: 2.1683e-04 - val_loss: 0.0021\n",
            "Epoch 49/100\n",
            "12/12 [==============================] - 4s 349ms/step - loss: 2.2251e-04 - val_loss: 0.0017\n",
            "Epoch 50/100\n",
            "12/12 [==============================] - 4s 335ms/step - loss: 2.2025e-04 - val_loss: 0.0016\n",
            "Epoch 51/100\n",
            "12/12 [==============================] - 5s 414ms/step - loss: 2.1711e-04 - val_loss: 0.0026\n",
            "Epoch 52/100\n",
            "12/12 [==============================] - 4s 335ms/step - loss: 2.2205e-04 - val_loss: 0.0018\n",
            "Epoch 53/100\n",
            "12/12 [==============================] - 4s 337ms/step - loss: 2.2368e-04 - val_loss: 0.0023\n",
            "Epoch 54/100\n",
            "12/12 [==============================] - 4s 338ms/step - loss: 2.2261e-04 - val_loss: 0.0016\n",
            "Epoch 55/100\n",
            "12/12 [==============================] - 4s 339ms/step - loss: 2.2462e-04 - val_loss: 0.0028\n",
            "Epoch 56/100\n",
            "12/12 [==============================] - 4s 333ms/step - loss: 2.2998e-04 - val_loss: 0.0020\n",
            "Epoch 57/100\n",
            "12/12 [==============================] - 4s 340ms/step - loss: 2.1346e-04 - val_loss: 0.0020\n",
            "Epoch 58/100\n",
            "12/12 [==============================] - 4s 336ms/step - loss: 2.0546e-04 - val_loss: 0.0016\n",
            "Epoch 59/100\n",
            "12/12 [==============================] - 4s 334ms/step - loss: 2.3530e-04 - val_loss: 0.0025\n",
            "Epoch 60/100\n",
            "12/12 [==============================] - 4s 355ms/step - loss: 2.0811e-04 - val_loss: 0.0017\n",
            "Epoch 61/100\n",
            "12/12 [==============================] - 4s 348ms/step - loss: 2.2046e-04 - val_loss: 0.0016\n",
            "Epoch 62/100\n",
            "12/12 [==============================] - 4s 338ms/step - loss: 2.0428e-04 - val_loss: 0.0024\n",
            "Epoch 63/100\n",
            "12/12 [==============================] - 4s 338ms/step - loss: 2.0733e-04 - val_loss: 0.0015\n",
            "Epoch 64/100\n",
            "12/12 [==============================] - 4s 343ms/step - loss: 2.1199e-04 - val_loss: 0.0018\n",
            "Epoch 65/100\n",
            "12/12 [==============================] - 4s 335ms/step - loss: 1.9980e-04 - val_loss: 0.0022\n",
            "Epoch 66/100\n",
            "12/12 [==============================] - 4s 339ms/step - loss: 2.1341e-04 - val_loss: 0.0015\n",
            "Epoch 67/100\n",
            "12/12 [==============================] - 4s 345ms/step - loss: 2.2864e-04 - val_loss: 0.0025\n",
            "Epoch 68/100\n",
            "12/12 [==============================] - 4s 333ms/step - loss: 2.6451e-04 - val_loss: 0.0017\n",
            "Epoch 69/100\n",
            "12/12 [==============================] - 4s 342ms/step - loss: 2.4019e-04 - val_loss: 0.0021\n",
            "Epoch 70/100\n",
            "12/12 [==============================] - 4s 336ms/step - loss: 2.2152e-04 - val_loss: 0.0013\n",
            "Epoch 71/100\n",
            "12/12 [==============================] - 4s 342ms/step - loss: 1.8942e-04 - val_loss: 0.0015\n",
            "Epoch 72/100\n",
            "12/12 [==============================] - 4s 342ms/step - loss: 1.9356e-04 - val_loss: 0.0020\n",
            "Epoch 73/100\n",
            "12/12 [==============================] - 4s 340ms/step - loss: 1.9547e-04 - val_loss: 0.0014\n",
            "Epoch 74/100\n",
            "12/12 [==============================] - 4s 338ms/step - loss: 1.8159e-04 - val_loss: 0.0019\n",
            "Epoch 75/100\n",
            "12/12 [==============================] - 4s 342ms/step - loss: 1.8964e-04 - val_loss: 0.0018\n",
            "Epoch 76/100\n",
            "12/12 [==============================] - 4s 345ms/step - loss: 1.8214e-04 - val_loss: 0.0017\n",
            "Epoch 77/100\n",
            "12/12 [==============================] - 5s 399ms/step - loss: 1.7667e-04 - val_loss: 0.0019\n",
            "Epoch 78/100\n",
            "12/12 [==============================] - 4s 345ms/step - loss: 1.7193e-04 - val_loss: 0.0025\n",
            "Epoch 79/100\n",
            "12/12 [==============================] - 4s 338ms/step - loss: 1.8101e-04 - val_loss: 0.0017\n",
            "Epoch 80/100\n",
            "12/12 [==============================] - 4s 338ms/step - loss: 1.6872e-04 - val_loss: 0.0020\n",
            "Epoch 81/100\n",
            "12/12 [==============================] - 5s 397ms/step - loss: 1.8116e-04 - val_loss: 0.0022\n",
            "Epoch 82/100\n",
            "12/12 [==============================] - 4s 353ms/step - loss: 1.6214e-04 - val_loss: 0.0021\n",
            "Epoch 83/100\n",
            "12/12 [==============================] - 4s 345ms/step - loss: 1.4453e-04 - val_loss: 0.0023\n",
            "Epoch 84/100\n",
            "12/12 [==============================] - 4s 347ms/step - loss: 1.6476e-04 - val_loss: 0.0031\n",
            "Epoch 85/100\n",
            "12/12 [==============================] - 4s 340ms/step - loss: 1.5689e-04 - val_loss: 0.0021\n",
            "Epoch 86/100\n",
            "12/12 [==============================] - 4s 338ms/step - loss: 1.4707e-04 - val_loss: 0.0033\n",
            "Epoch 87/100\n",
            "12/12 [==============================] - 4s 343ms/step - loss: 1.4250e-04 - val_loss: 0.0023\n",
            "Epoch 88/100\n",
            "12/12 [==============================] - 4s 338ms/step - loss: 1.2554e-04 - val_loss: 0.0024\n",
            "Epoch 89/100\n",
            "12/12 [==============================] - 4s 353ms/step - loss: 1.3331e-04 - val_loss: 0.0023\n",
            "Epoch 90/100\n",
            "12/12 [==============================] - 4s 346ms/step - loss: 1.3989e-04 - val_loss: 0.0021\n",
            "Epoch 91/100\n",
            "12/12 [==============================] - 4s 337ms/step - loss: 1.1144e-04 - val_loss: 0.0015\n",
            "Epoch 92/100\n",
            "12/12 [==============================] - 5s 402ms/step - loss: 1.1805e-04 - val_loss: 0.0018\n",
            "Epoch 93/100\n",
            "12/12 [==============================] - 4s 350ms/step - loss: 1.1393e-04 - val_loss: 0.0017\n",
            "Epoch 94/100\n",
            "12/12 [==============================] - 4s 359ms/step - loss: 1.0651e-04 - val_loss: 0.0013\n",
            "Epoch 95/100\n",
            "12/12 [==============================] - 4s 332ms/step - loss: 9.6956e-05 - val_loss: 0.0016\n",
            "Epoch 96/100\n",
            "12/12 [==============================] - 4s 352ms/step - loss: 1.0778e-04 - val_loss: 0.0017\n",
            "Epoch 97/100\n",
            "12/12 [==============================] - 4s 329ms/step - loss: 9.6819e-05 - val_loss: 0.0011\n",
            "Epoch 98/100\n",
            "12/12 [==============================] - 4s 335ms/step - loss: 1.0137e-04 - val_loss: 0.0013\n",
            "Epoch 99/100\n",
            "12/12 [==============================] - 4s 342ms/step - loss: 9.3324e-05 - val_loss: 0.0017\n",
            "Epoch 100/100\n",
            "12/12 [==============================] - 4s 339ms/step - loss: 9.2867e-05 - val_loss: 0.0014\n"
          ]
        },
        {
          "output_type": "execute_result",
          "data": {
            "text/plain": [
              "<keras.callbacks.History at 0x7f109b8052d0>"
            ]
          },
          "metadata": {},
          "execution_count": 22
        }
      ]
    },
    {
      "cell_type": "code",
      "source": [
        "train_predict = model.predict(x_train)\n",
        "test_predict = model.predict(x_test)"
      ],
      "metadata": {
        "id": "IuVYQaMr57KA"
      },
      "execution_count": 23,
      "outputs": []
    },
    {
      "cell_type": "code",
      "source": [
        "train_predict = scaler.inverse_transform(train_predict)\n",
        "test_predict = scaler.inverse_transform(test_predict)"
      ],
      "metadata": {
        "id": "VBjG1rcR6rDT"
      },
      "execution_count": 24,
      "outputs": []
    },
    {
      "cell_type": "code",
      "source": [
        "import math\n",
        "from sklearn.metrics import mean_squared_error\n",
        "math.sqrt(mean_squared_error(y_train, train_predict))"
      ],
      "metadata": {
        "colab": {
          "base_uri": "https://localhost:8080/"
        },
        "id": "i3wVJLC48w5y",
        "outputId": "5a823554-0a2a-47dd-fea9-b3fce3aaa527"
      },
      "execution_count": 25,
      "outputs": [
        {
          "output_type": "execute_result",
          "data": {
            "text/plain": [
              "357.98585247980395"
            ]
          },
          "metadata": {},
          "execution_count": 25
        }
      ]
    },
    {
      "cell_type": "code",
      "source": [
        "math.sqrt(mean_squared_error(y_test, test_predict))"
      ],
      "metadata": {
        "colab": {
          "base_uri": "https://localhost:8080/"
        },
        "id": "IuYMq2jg9Bxz",
        "outputId": "da23a1eb-298e-4517-8b05-9971284e52d5"
      },
      "execution_count": 26,
      "outputs": [
        {
          "output_type": "execute_result",
          "data": {
            "text/plain": [
              "733.9125101100244"
            ]
          },
          "metadata": {},
          "execution_count": 26
        }
      ]
    },
    {
      "cell_type": "code",
      "source": [
        "look = 100\n",
        "trainplot = np.empty_like(df2)\n",
        "trainplot[:,  :] = np.nan\n",
        "trainplot[look:len(train_predict) + look, :] = train_predict\n",
        "\n",
        "testplot = np.empty_like(df2)\n",
        "testplot[:,  :] = np.nan\n",
        "testplot[len(train_predict) + (look * 2) + 1 : len(df2) - 1, :] = test_predict\n",
        "\n",
        "plt.plot(scaler.inverse_transform(df2))\n",
        "plt.plot(trainplot)\n",
        "plt.plot(testplot)\n",
        "plt.show()"
      ],
      "metadata": {
        "colab": {
          "base_uri": "https://localhost:8080/",
          "height": 265
        },
        "id": "a5R2Acxr9Nzl",
        "outputId": "a50a7ace-a358-44c6-e56b-e405ad625916"
      },
      "execution_count": 28,
      "outputs": [
        {
          "output_type": "display_data",
          "data": {
            "image/png": "[encoded data removed]",
            "text/plain": [
              "<Figure size 432x288 with 1 Axes>"
            ]
          },
          "metadata": {
            "needs_background": "light"
          }
        }
      ]
    },
    {
      "cell_type": "code",
      "source": [
        "len(test_data)"
      ],
      "metadata": {
        "colab": {
          "base_uri": "https://localhost:8080/"
        },
        "id": "JQbqvzox-6LP",
        "outputId": "b335fba1-a9f3-4b33-dba9-adbde87d563a"
      },
      "execution_count": 29,
      "outputs": [
        {
          "output_type": "execute_result",
          "data": {
            "text/plain": [
              "441"
            ]
          },
          "metadata": {},
          "execution_count": 29
        }
      ]
    },
    {
      "cell_type": "code",
      "source": [
        "x_input = test_data[341 : ].reshape(1, -1)\n",
        "x_input.shape"
      ],
      "metadata": {
        "colab": {
          "base_uri": "https://localhost:8080/"
        },
        "id": "B0yw_LDK_8Wy",
        "outputId": "87a55420-7ad9-4ddf-d5f4-59868bece8e8"
      },
      "execution_count": 30,
      "outputs": [
        {
          "output_type": "execute_result",
          "data": {
            "text/plain": [
              "(1, 100)"
            ]
          },
          "metadata": {},
          "execution_count": 30
        }
      ]
    },
    {
      "cell_type": "code",
      "source": [
        "temp_input = list(x_input)\n",
        "temp_input = temp_input[0].tolist()"
      ],
      "metadata": {
        "id": "TsL44CiIAM8D"
      },
      "execution_count": 31,
      "outputs": []
    },
    {
      "cell_type": "code",
      "source": [
        "lst_output = []\n",
        "n = 100\n",
        "i = 0\n",
        "while (i < 30):\n",
        "  if(len(temp_input) > 100):\n",
        "    x_input = np.array(temp_input[1:])\n",
        "    print(\"{} day input {}\".format(i, x_input))\n",
        "    x_input = x_input.reshape(1, -1)\n",
        "    x_input = x_input.reshape((1, n, 1))\n",
        "    y = model.predict(x_input, verbose = 0)\n",
        "    print(\"{} day output {}\".format(i, y))\n",
        "    temp_input.extend(y[0].tolist())\n",
        "    temp_input = temp_input[1:]\n",
        "    lst_output.extend(y.tolist())\n",
        "    i = i + 1\n",
        "  else:\n",
        "    x_input = x_input.reshape((1, n, 1))\n",
        "    y = model.predict(x_input, verbose = 0)\n",
        "    print(y[0])\n",
        "    temp_input.extend(y[0].tolist())\n",
        "    print(len(temp_input))\n",
        "    lst_output.extend(y.tolist())\n",
        "    i = i + 1\n",
        "\n",
        "print(lst_output)"
      ],
      "metadata": {
        "colab": {
          "base_uri": "https://localhost:8080/"
        },
        "id": "ce0aT-3nAYZz",
        "outputId": "e809fc9d-d051-477f-e76a-871870067ad0"
      },
      "execution_count": 33,
      "outputs": [
        {
          "output_type": "stream",
          "name": "stdout",
          "text": [
            "[0.25166923]\n",
            "101\n",
            "1 day input [0.27958811 0.27056288 0.27383021 0.27455359 0.28005904 0.2806222\n",
            " 0.28183592 0.26760139 0.27207275 0.27817048 0.27899582 0.28906971\n",
            " 0.29730845 0.29060871 0.29242929 0.28959889 0.28947266 0.2925361\n",
            " 0.29207974 0.29312839 0.2984008  0.29445863 0.29759003 0.30428007\n",
            " 0.30688229 0.31039723 0.32239365 0.33554069 0.33270543 0.33344823\n",
            " 0.34713901 0.35475148 0.41067007 0.40754838 0.41698143 0.43600287\n",
            " 0.45394654 0.49986892 0.48210488 0.50242744 0.51021954 0.50642302\n",
            " 0.47770636 0.41000981 0.43158978 0.42943421 0.41482586 0.40510152\n",
            " 0.42517162 0.44181417 0.44539223 0.46514191 0.47475944 0.45153366\n",
            " 0.45491752 0.43837206 0.46510792 0.46888017 0.44472225 0.43967317\n",
            " 0.40586859 0.40297508 0.42372486 0.43208013 0.40044568 0.40686869\n",
            " 0.38229325 0.37845789 0.38694424 0.3631213  0.36586432 0.35002282\n",
            " 0.36875783 0.40290711 0.43112857 0.44420763 0.44155201 0.4404451\n",
            " 0.4327501  0.42616687 0.49559176 0.47122508 0.44138209 0.43001194\n",
            " 0.4116896  0.42681743 0.4298663  0.45016944 0.41392285 0.42268592\n",
            " 0.41341308 0.39648895 0.39678995 0.3713649  0.36461661 0.35898494\n",
            " 0.36821408 0.3156308  0.32400548 0.25166923]\n",
            "1 day output [[0.2170167]]\n",
            "2 day input [0.27056288 0.27383021 0.27455359 0.28005904 0.2806222  0.28183592\n",
            " 0.26760139 0.27207275 0.27817048 0.27899582 0.28906971 0.29730845\n",
            " 0.29060871 0.29242929 0.28959889 0.28947266 0.2925361  0.29207974\n",
            " 0.29312839 0.2984008  0.29445863 0.29759003 0.30428007 0.30688229\n",
            " 0.31039723 0.32239365 0.33554069 0.33270543 0.33344823 0.34713901\n",
            " 0.35475148 0.41067007 0.40754838 0.41698143 0.43600287 0.45394654\n",
            " 0.49986892 0.48210488 0.50242744 0.51021954 0.50642302 0.47770636\n",
            " 0.41000981 0.43158978 0.42943421 0.41482586 0.40510152 0.42517162\n",
            " 0.44181417 0.44539223 0.46514191 0.47475944 0.45153366 0.45491752\n",
            " 0.43837206 0.46510792 0.46888017 0.44472225 0.43967317 0.40586859\n",
            " 0.40297508 0.42372486 0.43208013 0.40044568 0.40686869 0.38229325\n",
            " 0.37845789 0.38694424 0.3631213  0.36586432 0.35002282 0.36875783\n",
            " 0.40290711 0.43112857 0.44420763 0.44155201 0.4404451  0.4327501\n",
            " 0.42616687 0.49559176 0.47122508 0.44138209 0.43001194 0.4116896\n",
            " 0.42681743 0.4298663  0.45016944 0.41392285 0.42268592 0.41341308\n",
            " 0.39648895 0.39678995 0.3713649  0.36461661 0.35898494 0.36821408\n",
            " 0.3156308  0.32400548 0.25166923 0.2170167 ]\n",
            "2 day output [[0.18267101]]\n",
            "3 day input [0.27383021 0.27455359 0.28005904 0.2806222  0.28183592 0.26760139\n",
            " 0.27207275 0.27817048 0.27899582 0.28906971 0.29730845 0.29060871\n",
            " 0.29242929 0.28959889 0.28947266 0.2925361  0.29207974 0.29312839\n",
            " 0.2984008  0.29445863 0.29759003 0.30428007 0.30688229 0.31039723\n",
            " 0.32239365 0.33554069 0.33270543 0.33344823 0.34713901 0.35475148\n",
            " 0.41067007 0.40754838 0.41698143 0.43600287 0.45394654 0.49986892\n",
            " 0.48210488 0.50242744 0.51021954 0.50642302 0.47770636 0.41000981\n",
            " 0.43158978 0.42943421 0.41482586 0.40510152 0.42517162 0.44181417\n",
            " 0.44539223 0.46514191 0.47475944 0.45153366 0.45491752 0.43837206\n",
            " 0.46510792 0.46888017 0.44472225 0.43967317 0.40586859 0.40297508\n",
            " 0.42372486 0.43208013 0.40044568 0.40686869 0.38229325 0.37845789\n",
            " 0.38694424 0.3631213  0.36586432 0.35002282 0.36875783 0.40290711\n",
            " 0.43112857 0.44420763 0.44155201 0.4404451  0.4327501  0.42616687\n",
            " 0.49559176 0.47122508 0.44138209 0.43001194 0.4116896  0.42681743\n",
            " 0.4298663  0.45016944 0.41392285 0.42268592 0.41341308 0.39648895\n",
            " 0.39678995 0.3713649  0.36461661 0.35898494 0.36821408 0.3156308\n",
            " 0.32400548 0.25166923 0.2170167  0.18267101]\n",
            "3 day output [[0.15699619]]\n",
            "4 day input [0.27455359 0.28005904 0.2806222  0.28183592 0.26760139 0.27207275\n",
            " 0.27817048 0.27899582 0.28906971 0.29730845 0.29060871 0.29242929\n",
            " 0.28959889 0.28947266 0.2925361  0.29207974 0.29312839 0.2984008\n",
            " 0.29445863 0.29759003 0.30428007 0.30688229 0.31039723 0.32239365\n",
            " 0.33554069 0.33270543 0.33344823 0.34713901 0.35475148 0.41067007\n",
            " 0.40754838 0.41698143 0.43600287 0.45394654 0.49986892 0.48210488\n",
            " 0.50242744 0.51021954 0.50642302 0.47770636 0.41000981 0.43158978\n",
            " 0.42943421 0.41482586 0.40510152 0.42517162 0.44181417 0.44539223\n",
            " 0.46514191 0.47475944 0.45153366 0.45491752 0.43837206 0.46510792\n",
            " 0.46888017 0.44472225 0.43967317 0.40586859 0.40297508 0.42372486\n",
            " 0.43208013 0.40044568 0.40686869 0.38229325 0.37845789 0.38694424\n",
            " 0.3631213  0.36586432 0.35002282 0.36875783 0.40290711 0.43112857\n",
            " 0.44420763 0.44155201 0.4404451  0.4327501  0.42616687 0.49559176\n",
            " 0.47122508 0.44138209 0.43001194 0.4116896  0.42681743 0.4298663\n",
            " 0.45016944 0.41392285 0.42268592 0.41341308 0.39648895 0.39678995\n",
            " 0.3713649  0.36461661 0.35898494 0.36821408 0.3156308  0.32400548\n",
            " 0.25166923 0.2170167  0.18267101 0.15699619]\n",
            "4 day output [[0.14161849]]\n",
            "5 day input [0.28005904 0.2806222  0.28183592 0.26760139 0.27207275 0.27817048\n",
            " 0.27899582 0.28906971 0.29730845 0.29060871 0.29242929 0.28959889\n",
            " 0.28947266 0.2925361  0.29207974 0.29312839 0.2984008  0.29445863\n",
            " 0.29759003 0.30428007 0.30688229 0.31039723 0.32239365 0.33554069\n",
            " 0.33270543 0.33344823 0.34713901 0.35475148 0.41067007 0.40754838\n",
            " 0.41698143 0.43600287 0.45394654 0.49986892 0.48210488 0.50242744\n",
            " 0.51021954 0.50642302 0.47770636 0.41000981 0.43158978 0.42943421\n",
            " 0.41482586 0.40510152 0.42517162 0.44181417 0.44539223 0.46514191\n",
            " 0.47475944 0.45153366 0.45491752 0.43837206 0.46510792 0.46888017\n",
            " 0.44472225 0.43967317 0.40586859 0.40297508 0.42372486 0.43208013\n",
            " 0.40044568 0.40686869 0.38229325 0.37845789 0.38694424 0.3631213\n",
            " 0.36586432 0.35002282 0.36875783 0.40290711 0.43112857 0.44420763\n",
            " 0.44155201 0.4404451  0.4327501  0.42616687 0.49559176 0.47122508\n",
            " 0.44138209 0.43001194 0.4116896  0.42681743 0.4298663  0.45016944\n",
            " 0.41392285 0.42268592 0.41341308 0.39648895 0.39678995 0.3713649\n",
            " 0.36461661 0.35898494 0.36821408 0.3156308  0.32400548 0.25166923\n",
            " 0.2170167  0.18267101 0.15699619 0.14161849]\n",
            "5 day output [[0.13509117]]\n",
            "6 day input [0.2806222  0.28183592 0.26760139 0.27207275 0.27817048 0.27899582\n",
            " 0.28906971 0.29730845 0.29060871 0.29242929 0.28959889 0.28947266\n",
            " 0.2925361  0.29207974 0.29312839 0.2984008  0.29445863 0.29759003\n",
            " 0.30428007 0.30688229 0.31039723 0.32239365 0.33554069 0.33270543\n",
            " 0.33344823 0.34713901 0.35475148 0.41067007 0.40754838 0.41698143\n",
            " 0.43600287 0.45394654 0.49986892 0.48210488 0.50242744 0.51021954\n",
            " 0.50642302 0.47770636 0.41000981 0.43158978 0.42943421 0.41482586\n",
            " 0.40510152 0.42517162 0.44181417 0.44539223 0.46514191 0.47475944\n",
            " 0.45153366 0.45491752 0.43837206 0.46510792 0.46888017 0.44472225\n",
            " 0.43967317 0.40586859 0.40297508 0.42372486 0.43208013 0.40044568\n",
            " 0.40686869 0.38229325 0.37845789 0.38694424 0.3631213  0.36586432\n",
            " 0.35002282 0.36875783 0.40290711 0.43112857 0.44420763 0.44155201\n",
            " 0.4404451  0.4327501  0.42616687 0.49559176 0.47122508 0.44138209\n",
            " 0.43001194 0.4116896  0.42681743 0.4298663  0.45016944 0.41392285\n",
            " 0.42268592 0.41341308 0.39648895 0.39678995 0.3713649  0.36461661\n",
            " 0.35898494 0.36821408 0.3156308  0.32400548 0.25166923 0.2170167\n",
            " 0.18267101 0.15699619 0.14161849 0.13509117]\n",
            "6 day output [[0.13465175]]\n",
            "7 day input [0.28183592 0.26760139 0.27207275 0.27817048 0.27899582 0.28906971\n",
            " 0.29730845 0.29060871 0.29242929 0.28959889 0.28947266 0.2925361\n",
            " 0.29207974 0.29312839 0.2984008  0.29445863 0.29759003 0.30428007\n",
            " 0.30688229 0.31039723 0.32239365 0.33554069 0.33270543 0.33344823\n",
            " 0.34713901 0.35475148 0.41067007 0.40754838 0.41698143 0.43600287\n",
            " 0.45394654 0.49986892 0.48210488 0.50242744 0.51021954 0.50642302\n",
            " 0.47770636 0.41000981 0.43158978 0.42943421 0.41482586 0.40510152\n",
            " 0.42517162 0.44181417 0.44539223 0.46514191 0.47475944 0.45153366\n",
            " 0.45491752 0.43837206 0.46510792 0.46888017 0.44472225 0.43967317\n",
            " 0.40586859 0.40297508 0.42372486 0.43208013 0.40044568 0.40686869\n",
            " 0.38229325 0.37845789 0.38694424 0.3631213  0.36586432 0.35002282\n",
            " 0.36875783 0.40290711 0.43112857 0.44420763 0.44155201 0.4404451\n",
            " 0.4327501  0.42616687 0.49559176 0.47122508 0.44138209 0.43001194\n",
            " 0.4116896  0.42681743 0.4298663  0.45016944 0.41392285 0.42268592\n",
            " 0.41341308 0.39648895 0.39678995 0.3713649  0.36461661 0.35898494\n",
            " 0.36821408 0.3156308  0.32400548 0.25166923 0.2170167  0.18267101\n",
            " 0.15699619 0.14161849 0.13509117 0.13465175]\n",
            "7 day output [[0.13733956]]\n",
            "8 day input [0.26760139 0.27207275 0.27817048 0.27899582 0.28906971 0.29730845\n",
            " 0.29060871 0.29242929 0.28959889 0.28947266 0.2925361  0.29207974\n",
            " 0.29312839 0.2984008  0.29445863 0.29759003 0.30428007 0.30688229\n",
            " 0.31039723 0.32239365 0.33554069 0.33270543 0.33344823 0.34713901\n",
            " 0.35475148 0.41067007 0.40754838 0.41698143 0.43600287 0.45394654\n",
            " 0.49986892 0.48210488 0.50242744 0.51021954 0.50642302 0.47770636\n",
            " 0.41000981 0.43158978 0.42943421 0.41482586 0.40510152 0.42517162\n",
            " 0.44181417 0.44539223 0.46514191 0.47475944 0.45153366 0.45491752\n",
            " 0.43837206 0.46510792 0.46888017 0.44472225 0.43967317 0.40586859\n",
            " 0.40297508 0.42372486 0.43208013 0.40044568 0.40686869 0.38229325\n",
            " 0.37845789 0.38694424 0.3631213  0.36586432 0.35002282 0.36875783\n",
            " 0.40290711 0.43112857 0.44420763 0.44155201 0.4404451  0.4327501\n",
            " 0.42616687 0.49559176 0.47122508 0.44138209 0.43001194 0.4116896\n",
            " 0.42681743 0.4298663  0.45016944 0.41392285 0.42268592 0.41341308\n",
            " 0.39648895 0.39678995 0.3713649  0.36461661 0.35898494 0.36821408\n",
            " 0.3156308  0.32400548 0.25166923 0.2170167  0.18267101 0.15699619\n",
            " 0.14161849 0.13509117 0.13465175 0.13733956]\n",
            "8 day output [[0.14074513]]\n",
            "9 day input [0.27207275 0.27817048 0.27899582 0.28906971 0.29730845 0.29060871\n",
            " 0.29242929 0.28959889 0.28947266 0.2925361  0.29207974 0.29312839\n",
            " 0.2984008  0.29445863 0.29759003 0.30428007 0.30688229 0.31039723\n",
            " 0.32239365 0.33554069 0.33270543 0.33344823 0.34713901 0.35475148\n",
            " 0.41067007 0.40754838 0.41698143 0.43600287 0.45394654 0.49986892\n",
            " 0.48210488 0.50242744 0.51021954 0.50642302 0.47770636 0.41000981\n",
            " 0.43158978 0.42943421 0.41482586 0.40510152 0.42517162 0.44181417\n",
            " 0.44539223 0.46514191 0.47475944 0.45153366 0.45491752 0.43837206\n",
            " 0.46510792 0.46888017 0.44472225 0.43967317 0.40586859 0.40297508\n",
            " 0.42372486 0.43208013 0.40044568 0.40686869 0.38229325 0.37845789\n",
            " 0.38694424 0.3631213  0.36586432 0.35002282 0.36875783 0.40290711\n",
            " 0.43112857 0.44420763 0.44155201 0.4404451  0.4327501  0.42616687\n",
            " 0.49559176 0.47122508 0.44138209 0.43001194 0.4116896  0.42681743\n",
            " 0.4298663  0.45016944 0.41392285 0.42268592 0.41341308 0.39648895\n",
            " 0.39678995 0.3713649  0.36461661 0.35898494 0.36821408 0.3156308\n",
            " 0.32400548 0.25166923 0.2170167  0.18267101 0.15699619 0.14161849\n",
            " 0.13509117 0.13465175 0.13733956 0.14074513]\n",
            "9 day output [[0.14340666]]\n",
            "10 day input [0.27817048 0.27899582 0.28906971 0.29730845 0.29060871 0.29242929\n",
            " 0.28959889 0.28947266 0.2925361  0.29207974 0.29312839 0.2984008\n",
            " 0.29445863 0.29759003 0.30428007 0.30688229 0.31039723 0.32239365\n",
            " 0.33554069 0.33270543 0.33344823 0.34713901 0.35475148 0.41067007\n",
            " 0.40754838 0.41698143 0.43600287 0.45394654 0.49986892 0.48210488\n",
            " 0.50242744 0.51021954 0.50642302 0.47770636 0.41000981 0.43158978\n",
            " 0.42943421 0.41482586 0.40510152 0.42517162 0.44181417 0.44539223\n",
            " 0.46514191 0.47475944 0.45153366 0.45491752 0.43837206 0.46510792\n",
            " 0.46888017 0.44472225 0.43967317 0.40586859 0.40297508 0.42372486\n",
            " 0.43208013 0.40044568 0.40686869 0.38229325 0.37845789 0.38694424\n",
            " 0.3631213  0.36586432 0.35002282 0.36875783 0.40290711 0.43112857\n",
            " 0.44420763 0.44155201 0.4404451  0.4327501  0.42616687 0.49559176\n",
            " 0.47122508 0.44138209 0.43001194 0.4116896  0.42681743 0.4298663\n",
            " 0.45016944 0.41392285 0.42268592 0.41341308 0.39648895 0.39678995\n",
            " 0.3713649  0.36461661 0.35898494 0.36821408 0.3156308  0.32400548\n",
            " 0.25166923 0.2170167  0.18267101 0.15699619 0.14161849 0.13509117\n",
            " 0.13465175 0.13733956 0.14074513 0.14340666]\n",
            "10 day output [[0.14486739]]\n",
            "11 day input [0.27899582 0.28906971 0.29730845 0.29060871 0.29242929 0.28959889\n",
            " 0.28947266 0.2925361  0.29207974 0.29312839 0.2984008  0.29445863\n",
            " 0.29759003 0.30428007 0.30688229 0.31039723 0.32239365 0.33554069\n",
            " 0.33270543 0.33344823 0.34713901 0.35475148 0.41067007 0.40754838\n",
            " 0.41698143 0.43600287 0.45394654 0.49986892 0.48210488 0.50242744\n",
            " 0.51021954 0.50642302 0.47770636 0.41000981 0.43158978 0.42943421\n",
            " 0.41482586 0.40510152 0.42517162 0.44181417 0.44539223 0.46514191\n",
            " 0.47475944 0.45153366 0.45491752 0.43837206 0.46510792 0.46888017\n",
            " 0.44472225 0.43967317 0.40586859 0.40297508 0.42372486 0.43208013\n",
            " 0.40044568 0.40686869 0.38229325 0.37845789 0.38694424 0.3631213\n",
            " 0.36586432 0.35002282 0.36875783 0.40290711 0.43112857 0.44420763\n",
            " 0.44155201 0.4404451  0.4327501  0.42616687 0.49559176 0.47122508\n",
            " 0.44138209 0.43001194 0.4116896  0.42681743 0.4298663  0.45016944\n",
            " 0.41392285 0.42268592 0.41341308 0.39648895 0.39678995 0.3713649\n",
            " 0.36461661 0.35898494 0.36821408 0.3156308  0.32400548 0.25166923\n",
            " 0.2170167  0.18267101 0.15699619 0.14161849 0.13509117 0.13465175\n",
            " 0.13733956 0.14074513 0.14340666 0.14486739]\n",
            "11 day output [[0.14551154]]\n",
            "12 day input [0.28906971 0.29730845 0.29060871 0.29242929 0.28959889 0.28947266\n",
            " 0.2925361  0.29207974 0.29312839 0.2984008  0.29445863 0.29759003\n",
            " 0.30428007 0.30688229 0.31039723 0.32239365 0.33554069 0.33270543\n",
            " 0.33344823 0.34713901 0.35475148 0.41067007 0.40754838 0.41698143\n",
            " 0.43600287 0.45394654 0.49986892 0.48210488 0.50242744 0.51021954\n",
            " 0.50642302 0.47770636 0.41000981 0.43158978 0.42943421 0.41482586\n",
            " 0.40510152 0.42517162 0.44181417 0.44539223 0.46514191 0.47475944\n",
            " 0.45153366 0.45491752 0.43837206 0.46510792 0.46888017 0.44472225\n",
            " 0.43967317 0.40586859 0.40297508 0.42372486 0.43208013 0.40044568\n",
            " 0.40686869 0.38229325 0.37845789 0.38694424 0.3631213  0.36586432\n",
            " 0.35002282 0.36875783 0.40290711 0.43112857 0.44420763 0.44155201\n",
            " 0.4404451  0.4327501  0.42616687 0.49559176 0.47122508 0.44138209\n",
            " 0.43001194 0.4116896  0.42681743 0.4298663  0.45016944 0.41392285\n",
            " 0.42268592 0.41341308 0.39648895 0.39678995 0.3713649  0.36461661\n",
            " 0.35898494 0.36821408 0.3156308  0.32400548 0.25166923 0.2170167\n",
            " 0.18267101 0.15699619 0.14161849 0.13509117 0.13465175 0.13733956\n",
            " 0.14074513 0.14340666 0.14486739 0.14551154]\n",
            "12 day output [[0.14628293]]\n",
            "13 day input [0.29730845 0.29060871 0.29242929 0.28959889 0.28947266 0.2925361\n",
            " 0.29207974 0.29312839 0.2984008  0.29445863 0.29759003 0.30428007\n",
            " 0.30688229 0.31039723 0.32239365 0.33554069 0.33270543 0.33344823\n",
            " 0.34713901 0.35475148 0.41067007 0.40754838 0.41698143 0.43600287\n",
            " 0.45394654 0.49986892 0.48210488 0.50242744 0.51021954 0.50642302\n",
            " 0.47770636 0.41000981 0.43158978 0.42943421 0.41482586 0.40510152\n",
            " 0.42517162 0.44181417 0.44539223 0.46514191 0.47475944 0.45153366\n",
            " 0.45491752 0.43837206 0.46510792 0.46888017 0.44472225 0.43967317\n",
            " 0.40586859 0.40297508 0.42372486 0.43208013 0.40044568 0.40686869\n",
            " 0.38229325 0.37845789 0.38694424 0.3631213  0.36586432 0.35002282\n",
            " 0.36875783 0.40290711 0.43112857 0.44420763 0.44155201 0.4404451\n",
            " 0.4327501  0.42616687 0.49559176 0.47122508 0.44138209 0.43001194\n",
            " 0.4116896  0.42681743 0.4298663  0.45016944 0.41392285 0.42268592\n",
            " 0.41341308 0.39648895 0.39678995 0.3713649  0.36461661 0.35898494\n",
            " 0.36821408 0.3156308  0.32400548 0.25166923 0.2170167  0.18267101\n",
            " 0.15699619 0.14161849 0.13509117 0.13465175 0.13733956 0.14074513\n",
            " 0.14340666 0.14486739 0.14551154 0.14628293]\n",
            "13 day output [[0.14837539]]\n",
            "14 day input [0.29060871 0.29242929 0.28959889 0.28947266 0.2925361  0.29207974\n",
            " 0.29312839 0.2984008  0.29445863 0.29759003 0.30428007 0.30688229\n",
            " 0.31039723 0.32239365 0.33554069 0.33270543 0.33344823 0.34713901\n",
            " 0.35475148 0.41067007 0.40754838 0.41698143 0.43600287 0.45394654\n",
            " 0.49986892 0.48210488 0.50242744 0.51021954 0.50642302 0.47770636\n",
            " 0.41000981 0.43158978 0.42943421 0.41482586 0.40510152 0.42517162\n",
            " 0.44181417 0.44539223 0.46514191 0.47475944 0.45153366 0.45491752\n",
            " 0.43837206 0.46510792 0.46888017 0.44472225 0.43967317 0.40586859\n",
            " 0.40297508 0.42372486 0.43208013 0.40044568 0.40686869 0.38229325\n",
            " 0.37845789 0.38694424 0.3631213  0.36586432 0.35002282 0.36875783\n",
            " 0.40290711 0.43112857 0.44420763 0.44155201 0.4404451  0.4327501\n",
            " 0.42616687 0.49559176 0.47122508 0.44138209 0.43001194 0.4116896\n",
            " 0.42681743 0.4298663  0.45016944 0.41392285 0.42268592 0.41341308\n",
            " 0.39648895 0.39678995 0.3713649  0.36461661 0.35898494 0.36821408\n",
            " 0.3156308  0.32400548 0.25166923 0.2170167  0.18267101 0.15699619\n",
            " 0.14161849 0.13509117 0.13465175 0.13733956 0.14074513 0.14340666\n",
            " 0.14486739 0.14551154 0.14628293 0.14837539]\n",
            "14 day output [[0.15294714]]\n",
            "15 day input [0.29242929 0.28959889 0.28947266 0.2925361  0.29207974 0.29312839\n",
            " 0.2984008  0.29445863 0.29759003 0.30428007 0.30688229 0.31039723\n",
            " 0.32239365 0.33554069 0.33270543 0.33344823 0.34713901 0.35475148\n",
            " 0.41067007 0.40754838 0.41698143 0.43600287 0.45394654 0.49986892\n",
            " 0.48210488 0.50242744 0.51021954 0.50642302 0.47770636 0.41000981\n",
            " 0.43158978 0.42943421 0.41482586 0.40510152 0.42517162 0.44181417\n",
            " 0.44539223 0.46514191 0.47475944 0.45153366 0.45491752 0.43837206\n",
            " 0.46510792 0.46888017 0.44472225 0.43967317 0.40586859 0.40297508\n",
            " 0.42372486 0.43208013 0.40044568 0.40686869 0.38229325 0.37845789\n",
            " 0.38694424 0.3631213  0.36586432 0.35002282 0.36875783 0.40290711\n",
            " 0.43112857 0.44420763 0.44155201 0.4404451  0.4327501  0.42616687\n",
            " 0.49559176 0.47122508 0.44138209 0.43001194 0.4116896  0.42681743\n",
            " 0.4298663  0.45016944 0.41392285 0.42268592 0.41341308 0.39648895\n",
            " 0.39678995 0.3713649  0.36461661 0.35898494 0.36821408 0.3156308\n",
            " 0.32400548 0.25166923 0.2170167  0.18267101 0.15699619 0.14161849\n",
            " 0.13509117 0.13465175 0.13733956 0.14074513 0.14340666 0.14486739\n",
            " 0.14551154 0.14628293 0.14837539 0.15294714]\n",
            "15 day output [[0.16088368]]\n",
            "16 day input [0.28959889 0.28947266 0.2925361  0.29207974 0.29312839 0.2984008\n",
            " 0.29445863 0.29759003 0.30428007 0.30688229 0.31039723 0.32239365\n",
            " 0.33554069 0.33270543 0.33344823 0.34713901 0.35475148 0.41067007\n",
            " 0.40754838 0.41698143 0.43600287 0.45394654 0.49986892 0.48210488\n",
            " 0.50242744 0.51021954 0.50642302 0.47770636 0.41000981 0.43158978\n",
            " 0.42943421 0.41482586 0.40510152 0.42517162 0.44181417 0.44539223\n",
            " 0.46514191 0.47475944 0.45153366 0.45491752 0.43837206 0.46510792\n",
            " 0.46888017 0.44472225 0.43967317 0.40586859 0.40297508 0.42372486\n",
            " 0.43208013 0.40044568 0.40686869 0.38229325 0.37845789 0.38694424\n",
            " 0.3631213  0.36586432 0.35002282 0.36875783 0.40290711 0.43112857\n",
            " 0.44420763 0.44155201 0.4404451  0.4327501  0.42616687 0.49559176\n",
            " 0.47122508 0.44138209 0.43001194 0.4116896  0.42681743 0.4298663\n",
            " 0.45016944 0.41392285 0.42268592 0.41341308 0.39648895 0.39678995\n",
            " 0.3713649  0.36461661 0.35898494 0.36821408 0.3156308  0.32400548\n",
            " 0.25166923 0.2170167  0.18267101 0.15699619 0.14161849 0.13509117\n",
            " 0.13465175 0.13733956 0.14074513 0.14340666 0.14486739 0.14551154\n",
            " 0.14628293 0.14837539 0.15294714 0.16088368]\n",
            "16 day output [[0.17263609]]\n",
            "17 day input [0.28947266 0.2925361  0.29207974 0.29312839 0.2984008  0.29445863\n",
            " 0.29759003 0.30428007 0.30688229 0.31039723 0.32239365 0.33554069\n",
            " 0.33270543 0.33344823 0.34713901 0.35475148 0.41067007 0.40754838\n",
            " 0.41698143 0.43600287 0.45394654 0.49986892 0.48210488 0.50242744\n",
            " 0.51021954 0.50642302 0.47770636 0.41000981 0.43158978 0.42943421\n",
            " 0.41482586 0.40510152 0.42517162 0.44181417 0.44539223 0.46514191\n",
            " 0.47475944 0.45153366 0.45491752 0.43837206 0.46510792 0.46888017\n",
            " 0.44472225 0.43967317 0.40586859 0.40297508 0.42372486 0.43208013\n",
            " 0.40044568 0.40686869 0.38229325 0.37845789 0.38694424 0.3631213\n",
            " 0.36586432 0.35002282 0.36875783 0.40290711 0.43112857 0.44420763\n",
            " 0.44155201 0.4404451  0.4327501  0.42616687 0.49559176 0.47122508\n",
            " 0.44138209 0.43001194 0.4116896  0.42681743 0.4298663  0.45016944\n",
            " 0.41392285 0.42268592 0.41341308 0.39648895 0.39678995 0.3713649\n",
            " 0.36461661 0.35898494 0.36821408 0.3156308  0.32400548 0.25166923\n",
            " 0.2170167  0.18267101 0.15699619 0.14161849 0.13509117 0.13465175\n",
            " 0.13733956 0.14074513 0.14340666 0.14486739 0.14551154 0.14628293\n",
            " 0.14837539 0.15294714 0.16088368 0.17263609]\n",
            "17 day output [[0.18815945]]\n",
            "18 day input [0.2925361  0.29207974 0.29312839 0.2984008  0.29445863 0.29759003\n",
            " 0.30428007 0.30688229 0.31039723 0.32239365 0.33554069 0.33270543\n",
            " 0.33344823 0.34713901 0.35475148 0.41067007 0.40754838 0.41698143\n",
            " 0.43600287 0.45394654 0.49986892 0.48210488 0.50242744 0.51021954\n",
            " 0.50642302 0.47770636 0.41000981 0.43158978 0.42943421 0.41482586\n",
            " 0.40510152 0.42517162 0.44181417 0.44539223 0.46514191 0.47475944\n",
            " 0.45153366 0.45491752 0.43837206 0.46510792 0.46888017 0.44472225\n",
            " 0.43967317 0.40586859 0.40297508 0.42372486 0.43208013 0.40044568\n",
            " 0.40686869 0.38229325 0.37845789 0.38694424 0.3631213  0.36586432\n",
            " 0.35002282 0.36875783 0.40290711 0.43112857 0.44420763 0.44155201\n",
            " 0.4404451  0.4327501  0.42616687 0.49559176 0.47122508 0.44138209\n",
            " 0.43001194 0.4116896  0.42681743 0.4298663  0.45016944 0.41392285\n",
            " 0.42268592 0.41341308 0.39648895 0.39678995 0.3713649  0.36461661\n",
            " 0.35898494 0.36821408 0.3156308  0.32400548 0.25166923 0.2170167\n",
            " 0.18267101 0.15699619 0.14161849 0.13509117 0.13465175 0.13733956\n",
            " 0.14074513 0.14340666 0.14486739 0.14551154 0.14628293 0.14837539\n",
            " 0.15294714 0.16088368 0.17263609 0.18815945]\n",
            "18 day output [[0.20693113]]\n",
            "19 day input [0.29207974 0.29312839 0.2984008  0.29445863 0.29759003 0.30428007\n",
            " 0.30688229 0.31039723 0.32239365 0.33554069 0.33270543 0.33344823\n",
            " 0.34713901 0.35475148 0.41067007 0.40754838 0.41698143 0.43600287\n",
            " 0.45394654 0.49986892 0.48210488 0.50242744 0.51021954 0.50642302\n",
            " 0.47770636 0.41000981 0.43158978 0.42943421 0.41482586 0.40510152\n",
            " 0.42517162 0.44181417 0.44539223 0.46514191 0.47475944 0.45153366\n",
            " 0.45491752 0.43837206 0.46510792 0.46888017 0.44472225 0.43967317\n",
            " 0.40586859 0.40297508 0.42372486 0.43208013 0.40044568 0.40686869\n",
            " 0.38229325 0.37845789 0.38694424 0.3631213  0.36586432 0.35002282\n",
            " 0.36875783 0.40290711 0.43112857 0.44420763 0.44155201 0.4404451\n",
            " 0.4327501  0.42616687 0.49559176 0.47122508 0.44138209 0.43001194\n",
            " 0.4116896  0.42681743 0.4298663  0.45016944 0.41392285 0.42268592\n",
            " 0.41341308 0.39648895 0.39678995 0.3713649  0.36461661 0.35898494\n",
            " 0.36821408 0.3156308  0.32400548 0.25166923 0.2170167  0.18267101\n",
            " 0.15699619 0.14161849 0.13509117 0.13465175 0.13733956 0.14074513\n",
            " 0.14340666 0.14486739 0.14551154 0.14628293 0.14837539 0.15294714\n",
            " 0.16088368 0.17263609 0.18815945 0.20693113]\n",
            "19 day output [[0.228042]]\n",
            "20 day input [0.29312839 0.2984008  0.29445863 0.29759003 0.30428007 0.30688229\n",
            " 0.31039723 0.32239365 0.33554069 0.33270543 0.33344823 0.34713901\n",
            " 0.35475148 0.41067007 0.40754838 0.41698143 0.43600287 0.45394654\n",
            " 0.49986892 0.48210488 0.50242744 0.51021954 0.50642302 0.47770636\n",
            " 0.41000981 0.43158978 0.42943421 0.41482586 0.40510152 0.42517162\n",
            " 0.44181417 0.44539223 0.46514191 0.47475944 0.45153366 0.45491752\n",
            " 0.43837206 0.46510792 0.46888017 0.44472225 0.43967317 0.40586859\n",
            " 0.40297508 0.42372486 0.43208013 0.40044568 0.40686869 0.38229325\n",
            " 0.37845789 0.38694424 0.3631213  0.36586432 0.35002282 0.36875783\n",
            " 0.40290711 0.43112857 0.44420763 0.44155201 0.4404451  0.4327501\n",
            " 0.42616687 0.49559176 0.47122508 0.44138209 0.43001194 0.4116896\n",
            " 0.42681743 0.4298663  0.45016944 0.41392285 0.42268592 0.41341308\n",
            " 0.39648895 0.39678995 0.3713649  0.36461661 0.35898494 0.36821408\n",
            " 0.3156308  0.32400548 0.25166923 0.2170167  0.18267101 0.15699619\n",
            " 0.14161849 0.13509117 0.13465175 0.13733956 0.14074513 0.14340666\n",
            " 0.14486739 0.14551154 0.14628293 0.14837539 0.15294714 0.16088368\n",
            " 0.17263609 0.18815945 0.20693113 0.22804201]\n",
            "20 day output [[0.25034115]]\n",
            "21 day input [0.2984008  0.29445863 0.29759003 0.30428007 0.30688229 0.31039723\n",
            " 0.32239365 0.33554069 0.33270543 0.33344823 0.34713901 0.35475148\n",
            " 0.41067007 0.40754838 0.41698143 0.43600287 0.45394654 0.49986892\n",
            " 0.48210488 0.50242744 0.51021954 0.50642302 0.47770636 0.41000981\n",
            " 0.43158978 0.42943421 0.41482586 0.40510152 0.42517162 0.44181417\n",
            " 0.44539223 0.46514191 0.47475944 0.45153366 0.45491752 0.43837206\n",
            " 0.46510792 0.46888017 0.44472225 0.43967317 0.40586859 0.40297508\n",
            " 0.42372486 0.43208013 0.40044568 0.40686869 0.38229325 0.37845789\n",
            " 0.38694424 0.3631213  0.36586432 0.35002282 0.36875783 0.40290711\n",
            " 0.43112857 0.44420763 0.44155201 0.4404451  0.4327501  0.42616687\n",
            " 0.49559176 0.47122508 0.44138209 0.43001194 0.4116896  0.42681743\n",
            " 0.4298663  0.45016944 0.41392285 0.42268592 0.41341308 0.39648895\n",
            " 0.39678995 0.3713649  0.36461661 0.35898494 0.36821408 0.3156308\n",
            " 0.32400548 0.25166923 0.2170167  0.18267101 0.15699619 0.14161849\n",
            " 0.13509117 0.13465175 0.13733956 0.14074513 0.14340666 0.14486739\n",
            " 0.14551154 0.14628293 0.14837539 0.15294714 0.16088368 0.17263609\n",
            " 0.18815945 0.20693113 0.22804201 0.25034115]\n",
            "21 day output [[0.27261487]]\n",
            "22 day input [0.29445863 0.29759003 0.30428007 0.30688229 0.31039723 0.32239365\n",
            " 0.33554069 0.33270543 0.33344823 0.34713901 0.35475148 0.41067007\n",
            " 0.40754838 0.41698143 0.43600287 0.45394654 0.49986892 0.48210488\n",
            " 0.50242744 0.51021954 0.50642302 0.47770636 0.41000981 0.43158978\n",
            " 0.42943421 0.41482586 0.40510152 0.42517162 0.44181417 0.44539223\n",
            " 0.46514191 0.47475944 0.45153366 0.45491752 0.43837206 0.46510792\n",
            " 0.46888017 0.44472225 0.43967317 0.40586859 0.40297508 0.42372486\n",
            " 0.43208013 0.40044568 0.40686869 0.38229325 0.37845789 0.38694424\n",
            " 0.3631213  0.36586432 0.35002282 0.36875783 0.40290711 0.43112857\n",
            " 0.44420763 0.44155201 0.4404451  0.4327501  0.42616687 0.49559176\n",
            " 0.47122508 0.44138209 0.43001194 0.4116896  0.42681743 0.4298663\n",
            " 0.45016944 0.41392285 0.42268592 0.41341308 0.39648895 0.39678995\n",
            " 0.3713649  0.36461661 0.35898494 0.36821408 0.3156308  0.32400548\n",
            " 0.25166923 0.2170167  0.18267101 0.15699619 0.14161849 0.13509117\n",
            " 0.13465175 0.13733956 0.14074513 0.14340666 0.14486739 0.14551154\n",
            " 0.14628293 0.14837539 0.15294714 0.16088368 0.17263609 0.18815945\n",
            " 0.20693113 0.22804201 0.25034115 0.27261487]\n",
            "22 day output [[0.2937801]]\n",
            "23 day input [0.29759003 0.30428007 0.30688229 0.31039723 0.32239365 0.33554069\n",
            " 0.33270543 0.33344823 0.34713901 0.35475148 0.41067007 0.40754838\n",
            " 0.41698143 0.43600287 0.45394654 0.49986892 0.48210488 0.50242744\n",
            " 0.51021954 0.50642302 0.47770636 0.41000981 0.43158978 0.42943421\n",
            " 0.41482586 0.40510152 0.42517162 0.44181417 0.44539223 0.46514191\n",
            " 0.47475944 0.45153366 0.45491752 0.43837206 0.46510792 0.46888017\n",
            " 0.44472225 0.43967317 0.40586859 0.40297508 0.42372486 0.43208013\n",
            " 0.40044568 0.40686869 0.38229325 0.37845789 0.38694424 0.3631213\n",
            " 0.36586432 0.35002282 0.36875783 0.40290711 0.43112857 0.44420763\n",
            " 0.44155201 0.4404451  0.4327501  0.42616687 0.49559176 0.47122508\n",
            " 0.44138209 0.43001194 0.4116896  0.42681743 0.4298663  0.45016944\n",
            " 0.41392285 0.42268592 0.41341308 0.39648895 0.39678995 0.3713649\n",
            " 0.36461661 0.35898494 0.36821408 0.3156308  0.32400548 0.25166923\n",
            " 0.2170167  0.18267101 0.15699619 0.14161849 0.13509117 0.13465175\n",
            " 0.13733956 0.14074513 0.14340666 0.14486739 0.14551154 0.14628293\n",
            " 0.14837539 0.15294714 0.16088368 0.17263609 0.18815945 0.20693113\n",
            " 0.22804201 0.25034115 0.27261487 0.29378009]\n",
            "23 day output [[0.3130602]]\n",
            "24 day input [0.30428007 0.30688229 0.31039723 0.32239365 0.33554069 0.33270543\n",
            " 0.33344823 0.34713901 0.35475148 0.41067007 0.40754838 0.41698143\n",
            " 0.43600287 0.45394654 0.49986892 0.48210488 0.50242744 0.51021954\n",
            " 0.50642302 0.47770636 0.41000981 0.43158978 0.42943421 0.41482586\n",
            " 0.40510152 0.42517162 0.44181417 0.44539223 0.46514191 0.47475944\n",
            " 0.45153366 0.45491752 0.43837206 0.46510792 0.46888017 0.44472225\n",
            " 0.43967317 0.40586859 0.40297508 0.42372486 0.43208013 0.40044568\n",
            " 0.40686869 0.38229325 0.37845789 0.38694424 0.3631213  0.36586432\n",
            " 0.35002282 0.36875783 0.40290711 0.43112857 0.44420763 0.44155201\n",
            " 0.4404451  0.4327501  0.42616687 0.49559176 0.47122508 0.44138209\n",
            " 0.43001194 0.4116896  0.42681743 0.4298663  0.45016944 0.41392285\n",
            " 0.42268592 0.41341308 0.39648895 0.39678995 0.3713649  0.36461661\n",
            " 0.35898494 0.36821408 0.3156308  0.32400548 0.25166923 0.2170167\n",
            " 0.18267101 0.15699619 0.14161849 0.13509117 0.13465175 0.13733956\n",
            " 0.14074513 0.14340666 0.14486739 0.14551154 0.14628293 0.14837539\n",
            " 0.15294714 0.16088368 0.17263609 0.18815945 0.20693113 0.22804201\n",
            " 0.25034115 0.27261487 0.29378009 0.31306019]\n",
            "24 day output [[0.3301034]]\n",
            "25 day input [0.30688229 0.31039723 0.32239365 0.33554069 0.33270543 0.33344823\n",
            " 0.34713901 0.35475148 0.41067007 0.40754838 0.41698143 0.43600287\n",
            " 0.45394654 0.49986892 0.48210488 0.50242744 0.51021954 0.50642302\n",
            " 0.47770636 0.41000981 0.43158978 0.42943421 0.41482586 0.40510152\n",
            " 0.42517162 0.44181417 0.44539223 0.46514191 0.47475944 0.45153366\n",
            " 0.45491752 0.43837206 0.46510792 0.46888017 0.44472225 0.43967317\n",
            " 0.40586859 0.40297508 0.42372486 0.43208013 0.40044568 0.40686869\n",
            " 0.38229325 0.37845789 0.38694424 0.3631213  0.36586432 0.35002282\n",
            " 0.36875783 0.40290711 0.43112857 0.44420763 0.44155201 0.4404451\n",
            " 0.4327501  0.42616687 0.49559176 0.47122508 0.44138209 0.43001194\n",
            " 0.4116896  0.42681743 0.4298663  0.45016944 0.41392285 0.42268592\n",
            " 0.41341308 0.39648895 0.39678995 0.3713649  0.36461661 0.35898494\n",
            " 0.36821408 0.3156308  0.32400548 0.25166923 0.2170167  0.18267101\n",
            " 0.15699619 0.14161849 0.13509117 0.13465175 0.13733956 0.14074513\n",
            " 0.14340666 0.14486739 0.14551154 0.14628293 0.14837539 0.15294714\n",
            " 0.16088368 0.17263609 0.18815945 0.20693113 0.22804201 0.25034115\n",
            " 0.27261487 0.29378009 0.31306019 0.3301034 ]\n",
            "25 day output [[0.34502015]]\n",
            "26 day input [0.31039723 0.32239365 0.33554069 0.33270543 0.33344823 0.34713901\n",
            " 0.35475148 0.41067007 0.40754838 0.41698143 0.43600287 0.45394654\n",
            " 0.49986892 0.48210488 0.50242744 0.51021954 0.50642302 0.47770636\n",
            " 0.41000981 0.43158978 0.42943421 0.41482586 0.40510152 0.42517162\n",
            " 0.44181417 0.44539223 0.46514191 0.47475944 0.45153366 0.45491752\n",
            " 0.43837206 0.46510792 0.46888017 0.44472225 0.43967317 0.40586859\n",
            " 0.40297508 0.42372486 0.43208013 0.40044568 0.40686869 0.38229325\n",
            " 0.37845789 0.38694424 0.3631213  0.36586432 0.35002282 0.36875783\n",
            " 0.40290711 0.43112857 0.44420763 0.44155201 0.4404451  0.4327501\n",
            " 0.42616687 0.49559176 0.47122508 0.44138209 0.43001194 0.4116896\n",
            " 0.42681743 0.4298663  0.45016944 0.41392285 0.42268592 0.41341308\n",
            " 0.39648895 0.39678995 0.3713649  0.36461661 0.35898494 0.36821408\n",
            " 0.3156308  0.32400548 0.25166923 0.2170167  0.18267101 0.15699619\n",
            " 0.14161849 0.13509117 0.13465175 0.13733956 0.14074513 0.14340666\n",
            " 0.14486739 0.14551154 0.14628293 0.14837539 0.15294714 0.16088368\n",
            " 0.17263609 0.18815945 0.20693113 0.22804201 0.25034115 0.27261487\n",
            " 0.29378009 0.31306019 0.3301034  0.34502015]\n",
            "26 day output [[0.35830924]]\n",
            "27 day input [0.32239365 0.33554069 0.33270543 0.33344823 0.34713901 0.35475148\n",
            " 0.41067007 0.40754838 0.41698143 0.43600287 0.45394654 0.49986892\n",
            " 0.48210488 0.50242744 0.51021954 0.50642302 0.47770636 0.41000981\n",
            " 0.43158978 0.42943421 0.41482586 0.40510152 0.42517162 0.44181417\n",
            " 0.44539223 0.46514191 0.47475944 0.45153366 0.45491752 0.43837206\n",
            " 0.46510792 0.46888017 0.44472225 0.43967317 0.40586859 0.40297508\n",
            " 0.42372486 0.43208013 0.40044568 0.40686869 0.38229325 0.37845789\n",
            " 0.38694424 0.3631213  0.36586432 0.35002282 0.36875783 0.40290711\n",
            " 0.43112857 0.44420763 0.44155201 0.4404451  0.4327501  0.42616687\n",
            " 0.49559176 0.47122508 0.44138209 0.43001194 0.4116896  0.42681743\n",
            " 0.4298663  0.45016944 0.41392285 0.42268592 0.41341308 0.39648895\n",
            " 0.39678995 0.3713649  0.36461661 0.35898494 0.36821408 0.3156308\n",
            " 0.32400548 0.25166923 0.2170167  0.18267101 0.15699619 0.14161849\n",
            " 0.13509117 0.13465175 0.13733956 0.14074513 0.14340666 0.14486739\n",
            " 0.14551154 0.14628293 0.14837539 0.15294714 0.16088368 0.17263609\n",
            " 0.18815945 0.20693113 0.22804201 0.25034115 0.27261487 0.29378009\n",
            " 0.31306019 0.3301034  0.34502015 0.35830924]\n",
            "27 day output [[0.37066978]]\n",
            "28 day input [0.33554069 0.33270543 0.33344823 0.34713901 0.35475148 0.41067007\n",
            " 0.40754838 0.41698143 0.43600287 0.45394654 0.49986892 0.48210488\n",
            " 0.50242744 0.51021954 0.50642302 0.47770636 0.41000981 0.43158978\n",
            " 0.42943421 0.41482586 0.40510152 0.42517162 0.44181417 0.44539223\n",
            " 0.46514191 0.47475944 0.45153366 0.45491752 0.43837206 0.46510792\n",
            " 0.46888017 0.44472225 0.43967317 0.40586859 0.40297508 0.42372486\n",
            " 0.43208013 0.40044568 0.40686869 0.38229325 0.37845789 0.38694424\n",
            " 0.3631213  0.36586432 0.35002282 0.36875783 0.40290711 0.43112857\n",
            " 0.44420763 0.44155201 0.4404451  0.4327501  0.42616687 0.49559176\n",
            " 0.47122508 0.44138209 0.43001194 0.4116896  0.42681743 0.4298663\n",
            " 0.45016944 0.41392285 0.42268592 0.41341308 0.39648895 0.39678995\n",
            " 0.3713649  0.36461661 0.35898494 0.36821408 0.3156308  0.32400548\n",
            " 0.25166923 0.2170167  0.18267101 0.15699619 0.14161849 0.13509117\n",
            " 0.13465175 0.13733956 0.14074513 0.14340666 0.14486739 0.14551154\n",
            " 0.14628293 0.14837539 0.15294714 0.16088368 0.17263609 0.18815945\n",
            " 0.20693113 0.22804201 0.25034115 0.27261487 0.29378009 0.31306019\n",
            " 0.3301034  0.34502015 0.35830924 0.37066978]\n",
            "28 day output [[0.3827285]]\n",
            "29 day input [0.33270543 0.33344823 0.34713901 0.35475148 0.41067007 0.40754838\n",
            " 0.41698143 0.43600287 0.45394654 0.49986892 0.48210488 0.50242744\n",
            " 0.51021954 0.50642302 0.47770636 0.41000981 0.43158978 0.42943421\n",
            " 0.41482586 0.40510152 0.42517162 0.44181417 0.44539223 0.46514191\n",
            " 0.47475944 0.45153366 0.45491752 0.43837206 0.46510792 0.46888017\n",
            " 0.44472225 0.43967317 0.40586859 0.40297508 0.42372486 0.43208013\n",
            " 0.40044568 0.40686869 0.38229325 0.37845789 0.38694424 0.3631213\n",
            " 0.36586432 0.35002282 0.36875783 0.40290711 0.43112857 0.44420763\n",
            " 0.44155201 0.4404451  0.4327501  0.42616687 0.49559176 0.47122508\n",
            " 0.44138209 0.43001194 0.4116896  0.42681743 0.4298663  0.45016944\n",
            " 0.41392285 0.42268592 0.41341308 0.39648895 0.39678995 0.3713649\n",
            " 0.36461661 0.35898494 0.36821408 0.3156308  0.32400548 0.25166923\n",
            " 0.2170167  0.18267101 0.15699619 0.14161849 0.13509117 0.13465175\n",
            " 0.13733956 0.14074513 0.14340666 0.14486739 0.14551154 0.14628293\n",
            " 0.14837539 0.15294714 0.16088368 0.17263609 0.18815945 0.20693113\n",
            " 0.22804201 0.25034115 0.27261487 0.29378009 0.31306019 0.3301034\n",
            " 0.34502015 0.35830924 0.37066978 0.38272849]\n",
            "29 day output [[0.39474842]]\n",
            "[[0.2516692280769348], [0.21701669692993164], [0.18267101049423218], [0.15699619054794312], [0.1416184902191162], [0.135091170668602], [0.13465175032615662], [0.13733956217765808], [0.1407451331615448], [0.14340665936470032], [0.14486739039421082], [0.14551153779029846], [0.14628292620182037], [0.14837539196014404], [0.15294714272022247], [0.16088367998600006], [0.17263609170913696], [0.18815945088863373], [0.20693112909793854], [0.22804200649261475], [0.25034114718437195], [0.27261486649513245], [0.2937800884246826], [0.3130601942539215], [0.33010339736938477], [0.3450201451778412], [0.35830923914909363], [0.37066978216171265], [0.3827284872531891], [0.39474841952323914]]\n"
          ]
        }
      ]
    },
    {
      "cell_type": "code",
      "source": [
        "nday = np.arange(1, 101)\n",
        "pday = np.arange(101, 131)"
      ],
      "metadata": {
        "id": "G2Cy9kdcCkvT"
      },
      "execution_count": 34,
      "outputs": []
    },
    {
      "cell_type": "code",
      "source": [
        "len(df2)"
      ],
      "metadata": {
        "colab": {
          "base_uri": "https://localhost:8080/"
        },
        "id": "gFrcuXY4EbXE",
        "outputId": "50dd44fe-e36c-48cf-d4ac-1dd62c230163"
      },
      "execution_count": 37,
      "outputs": [
        {
          "output_type": "execute_result",
          "data": {
            "text/plain": [
              "1260"
            ]
          },
          "metadata": {},
          "execution_count": 37
        }
      ]
    },
    {
      "cell_type": "code",
      "source": [
        "plt.plot(nday, scaler.inverse_transform(df2[1160:]))\n",
        "plt.plot(pday, scaler.inverse_transform(lst_output))"
      ],
      "metadata": {
        "colab": {
          "base_uri": "https://localhost:8080/",
          "height": 282
        },
        "id": "rtLJh6CvDpjG",
        "outputId": "f82638ce-60f4-47a5-af24-4fc25de7e8ea"
      },
      "execution_count": 38,
      "outputs": [
        {
          "output_type": "execute_result",
          "data": {
            "text/plain": [
              "[<matplotlib.lines.Line2D at 0x7f1096bb8590>]"
            ]
          },
          "metadata": {},
          "execution_count": 38
        },
        {
          "output_type": "display_data",
          "data": {
            "image/png": "[encoded data removed]",
            "text/plain": [
              "<Figure size 432x288 with 1 Axes>"
            ]
          },
          "metadata": {
            "needs_background": "light"
          }
        }
      ]
    },
    {
      "cell_type": "code",
      "source": [
        "df3 = df2.tolist()\n",
        "df3.extend(lst_output)\n",
        "plt.plot(df3[1200:])"
      ],
      "metadata": {
        "colab": {
          "base_uri": "https://localhost:8080/",
          "height": 282
        },
        "id": "cgPpUtIjEObB",
        "outputId": "346a3081-b1d1-42e0-fcdc-b693641dd04d"
      },
      "execution_count": 40,
      "outputs": [
        {
          "output_type": "execute_result",
          "data": {
            "text/plain": [
              "[<matplotlib.lines.Line2D at 0x7f10983664d0>]"
            ]
          },
          "metadata": {},
          "execution_count": 40
        },
        {
          "output_type": "display_data",
          "data": {
            "image/png": "[encoded data removed]",
            "text/plain": [
              "<Figure size 432x288 with 1 Axes>"
            ]
          },
          "metadata": {
            "needs_background": "light"
          }
        }
      ]
    },
    {
      "cell_type": "code",
      "source": [
        ""
      ],
      "metadata": {
        "id": "yuKkTuQ2EzCM"
      },
      "execution_count": null,
      "outputs": []
    }
  ]
}